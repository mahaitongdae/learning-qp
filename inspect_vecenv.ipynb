{
 "cells": [
  {
   "cell_type": "code",
   "execution_count": 1,
   "id": "initial_id",
   "metadata": {
    "collapsed": true,
    "ExecuteTime": {
     "end_time": "2024-07-23T23:21:54.264585032Z",
     "start_time": "2024-07-23T23:21:53.189544672Z"
    }
   },
   "outputs": [],
   "source": [
    "from rl_games.common import env_configurations, vecenv\n",
    "from src.utils.rlgame_utils import RLGPUEnv, RLGPUAlgoObserver\n",
    "from src.envs.env_creators import env_creators, sys_param\n",
    "blacklist_keys = lambda d, blacklist: {k: d[k] for k in d if not (k in blacklist)}\n",
    "default_env_config = {\n",
    "    \"random_seed\": 42,\n",
    "    \"quiet\": True,\n",
    "    \"device\": 'cuda:0',\n",
    "    \"bs\": 100000,\n",
    "    \"noise_level\": 0.5,\n",
    "    \"max_steps\": 500,\n",
    "    \"keep_stats\": False,\n",
    "    \"run_name\": \"default\",\n",
    "    \"exp_name\": \"default\",\n",
    "    \"randomize\": True,\n",
    "    \"skip_to_steady_state\": True,\n",
    "    \"reward_shaping\": [1.0],\n",
    "}"
   ]
  },
  {
   "cell_type": "code",
   "outputs": [],
   "source": [
    "vecenv.register('RLGPU',\n",
    "                lambda config_name, num_actors, **kwargs: RLGPUEnv(config_name, num_actors, **kwargs))\n",
    "env_configurations.register('rlgpu', {\n",
    "    'vecenv_type': 'RLGPU',\n",
    "    'env_creator': lambda **env_config: env_creators['cartpole'](\n",
    "        **blacklist_keys(default_env_config, env_config.keys()),\n",
    "        **env_config,\n",
    "    ),\n",
    "})\n",
    "vec_env = vecenv.create_vec_env('rlgpu', default_env_config['bs'], **default_env_config)"
   ],
   "metadata": {
    "collapsed": false,
    "ExecuteTime": {
     "end_time": "2024-07-23T23:22:57.817443786Z",
     "start_time": "2024-07-23T23:22:57.533264496Z"
    }
   },
   "id": "6aa77f39e70ef96d",
   "execution_count": 3
  },
  {
   "cell_type": "code",
   "outputs": [
    {
     "data": {
      "text/plain": "torch.Size([100000, 5])"
     },
     "execution_count": 11,
     "metadata": {},
     "output_type": "execute_result"
    }
   ],
   "source": [
    "vec_env.env.reset().shape"
   ],
   "metadata": {
    "collapsed": false,
    "ExecuteTime": {
     "end_time": "2024-07-23T23:24:29.250042479Z",
     "start_time": "2024-07-23T23:24:29.205681944Z"
    }
   },
   "id": "929184e6a59bd6c4",
   "execution_count": 11
  },
  {
   "cell_type": "code",
   "outputs": [
    {
     "data": {
      "text/plain": "device(type='cuda', index=0)"
     },
     "execution_count": 19,
     "metadata": {},
     "output_type": "execute_result"
    }
   ],
   "source": [
    "env = env_creators['cartpole'](**default_env_config)\n",
    "env.reset().device"
   ],
   "metadata": {
    "collapsed": false,
    "ExecuteTime": {
     "end_time": "2024-07-23T23:35:58.841176816Z",
     "start_time": "2024-07-23T23:35:58.833282812Z"
    }
   },
   "id": "1277a73106b9a941",
   "execution_count": 19
  }
 ],
 "metadata": {
  "kernelspec": {
   "display_name": "Python 3",
   "language": "python",
   "name": "python3"
  },
  "language_info": {
   "codemirror_mode": {
    "name": "ipython",
    "version": 2
   },
   "file_extension": ".py",
   "mimetype": "text/x-python",
   "name": "python",
   "nbconvert_exporter": "python",
   "pygments_lexer": "ipython2",
   "version": "2.7.6"
  }
 },
 "nbformat": 4,
 "nbformat_minor": 5
}
